{
 "cells": [
  {
   "cell_type": "code",
   "execution_count": 2,
   "metadata": {},
   "outputs": [
    {
     "name": "stdout",
     "output_type": "stream",
     "text": [
      "OrderedDict([('account_key', '448'), ('status', 'canceled'), ('join_date', '2014-11-10'), ('cancel_date', '2015-01-14'), ('days_to_cancel', '65'), ('is_udacity', 'True'), ('is_canceled', 'True')])\n",
      "OrderedDict([('acct', '0'), ('utc_date', '2015-01-09'), ('num_courses_visited', '1.0'), ('total_minutes_visited', '11.6793745'), ('lessons_completed', '0.0'), ('projects_completed', '0.0')])\n",
      "OrderedDict([('creation_date', '2015-01-14'), ('completion_date', '2015-01-16'), ('assigned_rating', 'UNGRADED'), ('account_key', '256'), ('lesson_key', '3176718735'), ('processing_state', 'EVALUATED')])\n"
     ]
    }
   ],
   "source": [
    "import unicodecsv\n",
    "\n",
    "enrollments_filename = '/Users/xiaonili/enrollments.csv'\n",
    "\n",
    "def read_csv(filename):\n",
    "    with open(filename, 'rb') as f:\n",
    "        reader = unicodecsv.DictReader(f)\n",
    "        return list(reader)\n",
    "\n",
    "#with open(enrollments.csv, 'rb') as f:\n",
    "#    reader = unicodecsv.DictReader(f)\n",
    "#    enrollments = list(reader)\n",
    "\n",
    "#with open(daily_engagement.csv, 'rb') as f:\n",
    "#    reader = unicodecsv.DictReader(f)\n",
    "#    daily_engagement = list(reader)\n",
    "    \n",
    "#with open(project_submissions.csv, 'rb') as f:\n",
    "#    reader = unicodecsv.DictReader(f)\n",
    "#    project_submissions = list(reader)\n",
    "\n",
    "enrollments= read_csv('enrollments.csv')\n",
    "daily_engagement= read_csv('daily_engagement.csv')\n",
    "project_submissions=read_csv('project_submissions.csv')\n",
    "\n",
    "print(enrollments[0])\n",
    "print(daily_engagement[0])\n",
    "print(project_submissions[0])\n",
    "    \n",
    "    \n",
    "### Write code similar to the above to load the engagement\n",
    "### and submission data. The data is stored in files with\n",
    "### the given filenames. Then print the first row of each\n",
    "### table to make sure that your code works. You can use the\n",
    "### \"Test Run\" button to see the output of your code.\n",
    "\n"
   ]
  },
  {
   "cell_type": "code",
   "execution_count": null,
   "metadata": {},
   "outputs": [],
   "source": []
  }
 ],
 "metadata": {
  "kernelspec": {
   "display_name": "Python 3",
   "language": "python",
   "name": "python3"
  },
  "language_info": {
   "codemirror_mode": {
    "name": "ipython",
    "version": 3
   },
   "file_extension": ".py",
   "mimetype": "text/x-python",
   "name": "python",
   "nbconvert_exporter": "python",
   "pygments_lexer": "ipython3",
   "version": "3.7.4"
  }
 },
 "nbformat": 4,
 "nbformat_minor": 2
}
